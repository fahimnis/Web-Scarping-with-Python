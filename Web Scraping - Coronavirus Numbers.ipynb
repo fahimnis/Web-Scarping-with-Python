{
 "cells": [
  {
   "cell_type": "code",
   "execution_count": 476,
   "metadata": {},
   "outputs": [],
   "source": [
    "from bs4 import BeautifulSoup\n",
    "import requests\n",
    "import pandas as pd\n",
    "from pandas import Series,DataFrame\n",
    "import matplotlib.pyplot as plt"
   ]
  },
  {
   "cell_type": "code",
   "execution_count": 477,
   "metadata": {},
   "outputs": [],
   "source": [
    "url = 'https://www.worldometers.info/coronavirus/coronavirus-cases/'"
   ]
  },
  {
   "cell_type": "code",
   "execution_count": 478,
   "metadata": {},
   "outputs": [],
   "source": [
    "#Request content from webpage\n",
    "result = requests.get(url)\n",
    "c = result.content\n",
    "\n",
    "#Set up BeautifulSoup object\n",
    "soup = BeautifulSoup(c)"
   ]
  },
  {
   "cell_type": "code",
   "execution_count": 479,
   "metadata": {},
   "outputs": [],
   "source": [
    "#Go to section of interest\n",
    "summary1 = soup.find(\"div\",{'class':'col-md-6',\n",
    "                           'style':'margin-bottom:30px '})\n",
    "summary2 = soup.find(\"div\",{'class':'table-responsive',\n",
    "                           'style':'font-size:16px; margin: auto; width:100%;'})\n",
    "nums = soup.find_all(\"div\",{'class':'number-table'})\n",
    "table1 = summary1.find_all('table')\n",
    "table2 = summary2.find_all('table')"
   ]
  },
  {
   "cell_type": "code",
   "execution_count": 480,
   "metadata": {},
   "outputs": [],
   "source": [
    "data1 = []\n",
    "data2 = []\n",
    "rows1 = table1[0].findAll('tr')\n",
    "rows2 = table2[0].findAll('tr')\n",
    "\n",
    "for tr in rows1:\n",
    "    cols = tr.findAll('td')\n",
    "    \n",
    "    for td in cols:\n",
    "        text = td.find(text=True)\n",
    "#         print (text)\n",
    "        data1.append(text)\n",
    "        \n",
    "        num = td.find()\n",
    "#         print(num)\n",
    "        data1.append(num)\n",
    "        \n",
    "        \n",
    "for tr in rows2:\n",
    "    cols2 = tr.findAll('td')\n",
    "    \n",
    "    for td in cols2:\n",
    "        text = td.find(text=True)\n",
    "#         print (text)\n",
    "        data2.append(text)"
   ]
  },
  {
   "cell_type": "code",
   "execution_count": 481,
   "metadata": {},
   "outputs": [],
   "source": [
    "counthead1 = [0,4,8]\n",
    "counthead2 = [0,2,4]\n",
    "countval = [3,7,11]\n",
    "countvals = [0,1,2,3,4,5]\n",
    "\n",
    "headings1 = []\n",
    "headings2 = []\n",
    "headings = []\n",
    "values = []\n",
    "\n",
    "for i in counthead1:\n",
    "    \n",
    "    headings1.append(data1[i])\n",
    "    \n",
    "for i in counthead2:\n",
    "    \n",
    "    headings2.append(data2[i])\n",
    "    \n",
    "headings = headings1 + headings2\n",
    "    \n",
    "for i in countvals:\n",
    "    for j in nums[i]:\n",
    "        values.append(j)"
   ]
  },
  {
   "cell_type": "code",
   "execution_count": 482,
   "metadata": {},
   "outputs": [],
   "source": [
    "ValSer = Series(values,name = 'Numbers')#index = headings\n",
    "NameSer = Series(headings,name = 'Category')\n",
    "table = pd.concat([NameSer,ValSer],axis=1)"
   ]
  },
  {
   "cell_type": "code",
   "execution_count": 483,
   "metadata": {},
   "outputs": [
    {
     "data": {
      "text/html": [
       "<div>\n",
       "<style scoped>\n",
       "    .dataframe tbody tr th:only-of-type {\n",
       "        vertical-align: middle;\n",
       "    }\n",
       "\n",
       "    .dataframe tbody tr th {\n",
       "        vertical-align: top;\n",
       "    }\n",
       "\n",
       "    .dataframe thead th {\n",
       "        text-align: right;\n",
       "    }\n",
       "</style>\n",
       "<table border=\"1\" class=\"dataframe\">\n",
       "  <thead>\n",
       "    <tr style=\"text-align: right;\">\n",
       "      <th></th>\n",
       "      <th>Category</th>\n",
       "      <th>Numbers</th>\n",
       "    </tr>\n",
       "  </thead>\n",
       "  <tbody>\n",
       "    <tr>\n",
       "      <th>0</th>\n",
       "      <td>Currently Infected</td>\n",
       "      <td>890,318</td>\n",
       "    </tr>\n",
       "    <tr>\n",
       "      <th>1</th>\n",
       "      <td>Mild Condition</td>\n",
       "      <td>848,030</td>\n",
       "    </tr>\n",
       "    <tr>\n",
       "      <th>2</th>\n",
       "      <td>Serious or Critical</td>\n",
       "      <td>42,288</td>\n",
       "    </tr>\n",
       "    <tr>\n",
       "      <th>3</th>\n",
       "      <td>Cases with Outcome</td>\n",
       "      <td>311,158</td>\n",
       "    </tr>\n",
       "    <tr>\n",
       "      <th>4</th>\n",
       "      <td>Recovered/Discharged</td>\n",
       "      <td>246,467</td>\n",
       "    </tr>\n",
       "    <tr>\n",
       "      <th>5</th>\n",
       "      <td>Deaths</td>\n",
       "      <td>64,691</td>\n",
       "    </tr>\n",
       "  </tbody>\n",
       "</table>\n",
       "</div>"
      ],
      "text/plain": [
       "               Category  Numbers\n",
       "0    Currently Infected  890,318\n",
       "1       Mild Condition   848,030\n",
       "2  Serious or Critical    42,288\n",
       "3    Cases with Outcome  311,158\n",
       "4  Recovered/Discharged  246,467\n",
       "5                Deaths   64,691"
      ]
     },
     "execution_count": 483,
     "metadata": {},
     "output_type": "execute_result"
    }
   ],
   "source": [
    "table"
   ]
  },
  {
   "cell_type": "code",
   "execution_count": null,
   "metadata": {},
   "outputs": [],
   "source": []
  },
  {
   "cell_type": "code",
   "execution_count": null,
   "metadata": {},
   "outputs": [],
   "source": []
  },
  {
   "cell_type": "code",
   "execution_count": null,
   "metadata": {},
   "outputs": [],
   "source": []
  },
  {
   "cell_type": "markdown",
   "metadata": {},
   "source": []
  },
  {
   "cell_type": "code",
   "execution_count": null,
   "metadata": {},
   "outputs": [],
   "source": []
  },
  {
   "cell_type": "code",
   "execution_count": null,
   "metadata": {},
   "outputs": [],
   "source": []
  }
 ],
 "metadata": {
  "kernelspec": {
   "display_name": "Python 3",
   "language": "python",
   "name": "python3"
  },
  "language_info": {
   "codemirror_mode": {
    "name": "ipython",
    "version": 3
   },
   "file_extension": ".py",
   "mimetype": "text/x-python",
   "name": "python",
   "nbconvert_exporter": "python",
   "pygments_lexer": "ipython3",
   "version": "3.7.3"
  }
 },
 "nbformat": 4,
 "nbformat_minor": 2
}
