{
 "cells": [
  {
   "cell_type": "markdown",
   "metadata": {},
   "source": [
    "## Some things you should consider before scraping a website:\n",
    "\n",
    "1) You should check a site's terms and conditions before you scrape them.\n",
    "\n",
    "2) Space out your requests so you don't overload the site's server, doing this could get you blocked.\n",
    "\n",
    "3) Scrapers break after time - web pages change their layout all the time, you'll more than likely have to rewrite your code.\n",
    "\n",
    "4) Web pages are usually inconsistent, more than likely you'll have to clean up the data after scraping it.\n",
    "\n",
    "5) Every web page and situation is different, you'll have to spend time configuring your scraper."
   ]
  },
  {
   "cell_type": "markdown",
   "metadata": {},
   "source": [
    "**There are three modules we'll need in addition to python are:**\n",
    "\n",
    "1) BeautifulSoup, which you can download by typing: pip install beautifulsoup4 or conda install beautifulsoup4 (for the Anaconda distrbution of Python) in your command prompt.\n",
    "\n",
    "2) lxml , which you can download by typing: pip install lxml or conda install lxml (for the Anaconda distrbution of Python) in your command prompt. Search Results. lxml is a Python library which allows for easy handling of XML and HTML files, and can also be used for web scraping. \n",
    "\n",
    "3) requests, which you can download by typing: pip install requests or conda install requests (for the Anaconda distrbution of Python) in your command prompt."
   ]
  },
  {
   "cell_type": "code",
   "execution_count": 153,
   "metadata": {},
   "outputs": [],
   "source": [
    "from bs4 import BeautifulSoup\n",
    "import requests\n",
    "import pandas as pd\n",
    "from pandas import Series,DataFrame\n",
    "import seaborn as sns\n",
    "sns.set(style='darkgrid')"
   ]
  },
  {
   "cell_type": "code",
   "execution_count": 2,
   "metadata": {},
   "outputs": [],
   "source": [
    "url = \"https://www.multpl.com/united-states-population/table/by-year\""
   ]
  },
  {
   "cell_type": "code",
   "execution_count": 3,
   "metadata": {},
   "outputs": [],
   "source": [
    "#Request content from webpage\n",
    "result = requests.get(url)\n",
    "c = result.content\n",
    "\n",
    "#Set up BeautifulSoup object\n",
    "soup = BeautifulSoup(c)"
   ]
  },
  {
   "cell_type": "code",
   "execution_count": 22,
   "metadata": {},
   "outputs": [],
   "source": [
    "#Go to section of interest\n",
    "summary = soup.find(\"div\",{'class':'tcol'})\n",
    "\n",
    "#Extract the Table\n",
    "table = summary.find_all('table')\n"
   ]
  },
  {
   "cell_type": "code",
   "execution_count": 62,
   "metadata": {},
   "outputs": [],
   "source": [
    "Raw_Data = []\n",
    "Population = []\n",
    "Year = []\n",
    "\n",
    "\n",
    "rows = table[0].findAll('tr')\n",
    "\n",
    "for tr in rows:\n",
    "    \n",
    "    cols = tr.findAll('td')\n",
    "    \n",
    "    for td in cols:\n",
    "        \n",
    "        text = td.find(text=True)\n",
    "#         print(text)\n",
    "        Raw_Data.append(text)\n",
    "    \n",
    "    count = 1\n",
    "    \n",
    "    for data in Raw_Data:\n",
    "        \n",
    "        if count % 2 != 0:\n",
    "            \n",
    "            Year.append(data)\n",
    "            \n",
    "        if count % 2 == 0:\n",
    "            \n",
    "            Population.append(data.replace(\"million\\n\\n\",''))\n",
    "            \n",
    "        count +=1"
   ]
  },
  {
   "cell_type": "code",
   "execution_count": 87,
   "metadata": {},
   "outputs": [],
   "source": [
    "Population=[float(i) for i in Population]"
   ]
  },
  {
   "cell_type": "code",
   "execution_count": 93,
   "metadata": {},
   "outputs": [],
   "source": [
    "PSer = Series(Population); YSer = Series(Year)"
   ]
  },
  {
   "cell_type": "code",
   "execution_count": 116,
   "metadata": {},
   "outputs": [],
   "source": [
    "Ptable = pd.concat([YSer,PSer],axis = 1)\n",
    "Ptable.columns = ['Year','Population [millions]']"
   ]
  },
  {
   "cell_type": "code",
   "execution_count": 117,
   "metadata": {},
   "outputs": [
    {
     "data": {
      "text/html": [
       "<div>\n",
       "<style scoped>\n",
       "    .dataframe tbody tr th:only-of-type {\n",
       "        vertical-align: middle;\n",
       "    }\n",
       "\n",
       "    .dataframe tbody tr th {\n",
       "        vertical-align: top;\n",
       "    }\n",
       "\n",
       "    .dataframe thead th {\n",
       "        text-align: right;\n",
       "    }\n",
       "</style>\n",
       "<table border=\"1\" class=\"dataframe\">\n",
       "  <thead>\n",
       "    <tr style=\"text-align: right;\">\n",
       "      <th></th>\n",
       "      <th>Year</th>\n",
       "      <th>Population [millions]</th>\n",
       "    </tr>\n",
       "  </thead>\n",
       "  <tbody>\n",
       "    <tr>\n",
       "      <th>0</th>\n",
       "      <td>Mar 1, 2020</td>\n",
       "      <td>329.34</td>\n",
       "    </tr>\n",
       "    <tr>\n",
       "      <th>1</th>\n",
       "      <td>Mar 1, 2020</td>\n",
       "      <td>329.34</td>\n",
       "    </tr>\n",
       "    <tr>\n",
       "      <th>2</th>\n",
       "      <td>Jul 1, 2019</td>\n",
       "      <td>328.24</td>\n",
       "    </tr>\n",
       "    <tr>\n",
       "      <th>3</th>\n",
       "      <td>Mar 1, 2020</td>\n",
       "      <td>329.34</td>\n",
       "    </tr>\n",
       "    <tr>\n",
       "      <th>4</th>\n",
       "      <td>Jul 1, 2019</td>\n",
       "      <td>328.24</td>\n",
       "    </tr>\n",
       "  </tbody>\n",
       "</table>\n",
       "</div>"
      ],
      "text/plain": [
       "          Year  Population [millions]\n",
       "0  Mar 1, 2020                 329.34\n",
       "1  Mar 1, 2020                 329.34\n",
       "2  Jul 1, 2019                 328.24\n",
       "3  Mar 1, 2020                 329.34\n",
       "4  Jul 1, 2019                 328.24"
      ]
     },
     "execution_count": 117,
     "metadata": {},
     "output_type": "execute_result"
    }
   ],
   "source": [
    "Ptable.head()"
   ]
  },
  {
   "cell_type": "code",
   "execution_count": 157,
   "metadata": {},
   "outputs": [
    {
     "data": {
      "image/png": "[encoded data removed]",
      "text/plain": [
       "<Figure size 432x288 with 1 Axes>"
      ]
     },
     "metadata": {},
     "output_type": "display_data"
    }
   ],
   "source": [
    "p = sns.lineplot(x = Ptable.iloc[:,0], y = Ptable.iloc[:,1])\n",
    "p.set_title(\"US Population by Year\");"
   ]
  },
  {
   "cell_type": "code",
   "execution_count": null,
   "metadata": {},
   "outputs": [],
   "source": []
  },
  {
   "cell_type": "code",
   "execution_count": null,
   "metadata": {},
   "outputs": [],
   "source": []
  },
  {
   "cell_type": "code",
   "execution_count": null,
   "metadata": {},
   "outputs": [],
   "source": []
  },
  {
   "cell_type": "code",
   "execution_count": null,
   "metadata": {},
   "outputs": [],
   "source": []
  }
 ],
 "metadata": {
  "kernelspec": {
   "display_name": "Python 3",
   "language": "python",
   "name": "python3"
  },
  "language_info": {
   "codemirror_mode": {
    "name": "ipython",
    "version": 3
   },
   "file_extension": ".py",
   "mimetype": "text/x-python",
   "name": "python",
   "nbconvert_exporter": "python",
   "pygments_lexer": "ipython3",
   "version": "3.7.3"
  }
 },
 "nbformat": 4,
 "nbformat_minor": 2
}
